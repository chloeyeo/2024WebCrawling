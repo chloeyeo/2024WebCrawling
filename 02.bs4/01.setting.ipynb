{
 "cells": [
  {
   "cell_type": "code",
   "execution_count": 1,
   "metadata": {},
   "outputs": [
    {
     "name": "stdout",
     "output_type": "stream",
     "text": [
      "Collecting requests\n",
      "  Downloading requests-2.31.0-py3-none-any.whl.metadata (4.6 kB)\n",
      "Collecting charset-normalizer<4,>=2 (from requests)\n",
      "  Downloading charset_normalizer-3.3.2-cp38-cp38-win_amd64.whl.metadata (34 kB)\n",
      "Collecting idna<4,>=2.5 (from requests)\n",
      "  Downloading idna-3.7-py3-none-any.whl.metadata (9.9 kB)\n",
      "Collecting urllib3<3,>=1.21.1 (from requests)\n",
      "  Downloading urllib3-2.2.1-py3-none-any.whl.metadata (6.4 kB)\n",
      "Collecting certifi>=2017.4.17 (from requests)\n",
      "  Downloading certifi-2024.2.2-py3-none-any.whl.metadata (2.2 kB)\n",
      "Downloading requests-2.31.0-py3-none-any.whl (62 kB)\n",
      "   ---------------------------------------- 0.0/62.6 kB ? eta -:--:--\n",
      "   ---------------------------------------- 62.6/62.6 kB 3.5 MB/s eta 0:00:00\n",
      "Downloading certifi-2024.2.2-py3-none-any.whl (163 kB)\n",
      "   ---------------------------------------- 0.0/163.8 kB ? eta -:--:--\n",
      "   ---------------------------------------- 163.8/163.8 kB 9.6 MB/s eta 0:00:00\n",
      "Downloading charset_normalizer-3.3.2-cp38-cp38-win_amd64.whl (99 kB)\n",
      "   ---------------------------------------- 0.0/99.6 kB ? eta -:--:--\n",
      "   ---------------------------------------- 99.6/99.6 kB 6.0 MB/s eta 0:00:00\n",
      "Downloading idna-3.7-py3-none-any.whl (66 kB)\n",
      "   ---------------------------------------- 0.0/66.8 kB ? eta -:--:--\n",
      "   ---------------------------------------- 66.8/66.8 kB 3.8 MB/s eta 0:00:00\n",
      "Downloading urllib3-2.2.1-py3-none-any.whl (121 kB)\n",
      "   ---------------------------------------- 0.0/121.1 kB ? eta -:--:--\n",
      "   ------------------------------------- -- 112.6/121.1 kB ? eta -:--:--\n",
      "   ------------------------------------- -- 112.6/121.1 kB ? eta -:--:--\n",
      "   ------------------------------------- -- 112.6/121.1 kB ? eta -:--:--\n",
      "   -------------------------------------- 121.1/121.1 kB 710.4 kB/s eta 0:00:00\n",
      "Installing collected packages: urllib3, idna, charset-normalizer, certifi, requests\n",
      "Successfully installed certifi-2024.2.2 charset-normalizer-3.3.2 idna-3.7 requests-2.31.0 urllib3-2.2.1\n"
     ]
    }
   ],
   "source": [
    "!pip install requests"
   ]
  },
  {
   "cell_type": "code",
   "execution_count": 2,
   "metadata": {},
   "outputs": [
    {
     "name": "stdout",
     "output_type": "stream",
     "text": [
      "Collecting bs4\n",
      "  Downloading bs4-0.0.2-py2.py3-none-any.whl.metadata (411 bytes)\n",
      "Collecting beautifulsoup4 (from bs4)\n",
      "  Downloading beautifulsoup4-4.12.3-py3-none-any.whl.metadata (3.8 kB)\n",
      "Collecting soupsieve>1.2 (from beautifulsoup4->bs4)\n",
      "  Downloading soupsieve-2.5-py3-none-any.whl.metadata (4.7 kB)\n",
      "Downloading bs4-0.0.2-py2.py3-none-any.whl (1.2 kB)\n",
      "Downloading beautifulsoup4-4.12.3-py3-none-any.whl (147 kB)\n",
      "   ---------------------------------------- 0.0/147.9 kB ? eta -:--:--\n",
      "   -------- ------------------------------ 30.7/147.9 kB 435.7 kB/s eta 0:00:01\n",
      "   -------------------------------------- - 143.4/147.9 kB 1.7 MB/s eta 0:00:01\n",
      "   ---------------------------------------- 147.9/147.9 kB 1.5 MB/s eta 0:00:00\n",
      "Downloading soupsieve-2.5-py3-none-any.whl (36 kB)\n",
      "Installing collected packages: soupsieve, beautifulsoup4, bs4\n",
      "Successfully installed beautifulsoup4-4.12.3 bs4-0.0.2 soupsieve-2.5\n"
     ]
    }
   ],
   "source": [
    "!pip install bs4"
   ]
  },
  {
   "cell_type": "code",
   "execution_count": 3,
   "metadata": {},
   "outputs": [
    {
     "data": {
      "text/plain": [
       "'스타트코딩'"
      ]
     },
     "execution_count": 3,
     "metadata": {},
     "output_type": "execute_result"
    }
   ],
   "source": [
    "import requests\n",
    "from bs4 import BeautifulSoup\n",
    "url = \"https://startcoding.pythonanywhere.com/basic\"\n",
    "response = requests.get(url)\n",
    "#response.status_code\n",
    "html=response.text\n",
    "soup = BeautifulSoup(html, \"html.parser\")\n",
    "soup\n",
    "brand_name = soup.select_one(\".brand-name\").text\n",
    "brand_name"
   ]
  },
  {
   "cell_type": "code",
   "execution_count": 12,
   "metadata": {},
   "outputs": [
    {
     "data": {
      "text/plain": [
       "'kkj6369@naver.com'"
      ]
     },
     "execution_count": 12,
     "metadata": {},
     "output_type": "execute_result"
    }
   ],
   "source": [
    "email = soup.select_one(\".email\").text.strip()\n",
    "email"
   ]
  },
  {
   "cell_type": "code",
   "execution_count": 4,
   "metadata": {},
   "outputs": [
    {
     "data": {
      "text/plain": [
       "'에이서 스위프트 GO 16 OLED, 스틸 그레이, 코어i7, 512GB, 16GB, WIN11 Home, SFG16-71-77FT'"
      ]
     },
     "execution_count": 4,
     "metadata": {},
     "output_type": "execute_result"
    }
   ],
   "source": [
    "name = soup.select_one(\".product-name\").text\n",
    "name"
   ]
  },
  {
   "cell_type": "code",
   "execution_count": 9,
   "metadata": {},
   "outputs": [
    {
     "data": {
      "text/plain": [
       "'1419000'"
      ]
     },
     "execution_count": 9,
     "metadata": {},
     "output_type": "execute_result"
    }
   ],
   "source": [
    "price = soup.select_one(\".product-price\").text.strip().replace(\",\",\"\").split(\"원\")[0]\n",
    "price"
   ]
  },
  {
   "cell_type": "code",
   "execution_count": 13,
   "metadata": {},
   "outputs": [
    {
     "data": {
      "text/plain": [
       "'#product1_detail.html'"
      ]
     },
     "execution_count": 13,
     "metadata": {},
     "output_type": "execute_result"
    }
   ],
   "source": [
    "link = soup.select_one(\".product-name > a\").attrs[\"href\"]\n",
    "link"
   ]
  },
  {
   "cell_type": "code",
   "execution_count": 14,
   "metadata": {},
   "outputs": [
    {
     "data": {
      "text/plain": [
       "[<div class=\"product-body\">\n",
       " <p class=\"product-category\">노트북</p>\n",
       " <h3 class=\"product-name\"><a href=\"#product1_detail.html\">에이서 스위프트 GO 16 OLED, 스틸 그레이, 코어i7, 512GB, 16GB, WIN11 Home, SFG16-71-77FT</a></h3>\n",
       " <h4 class=\"product-price\">1,419,000원\n",
       " \t\t\t\t\t\t\t\t\t\t\n",
       " \t\t\t\t\t\t\t\t\t</h4>\n",
       " <div class=\"product-rating sub_cnt\">\n",
       " <i class=\"fa fa-star\"></i>\n",
       " <i class=\"fa fa-star\"></i>\n",
       " <i class=\"fa fa-star\"></i>\n",
       " <i class=\"fa fa-star\"></i>\n",
       " <i class=\"fa fa-star-half-o\"></i>\n",
       " \t\t\t\t\t\t\t\t\t\t\t\t\n",
       " \t\t\t\t\t\t\t\t\t\t\t\t\n",
       " \t\t\t\t\t\t\t\t\t\t\t\t(16)\n",
       " \t\t\t\t\t\t\t\t\t</div>\n",
       " <div class=\"product-btns\">\n",
       " <button class=\"add-to-wishlist\"><i class=\"fa fa-heart-o\"></i><span class=\"tooltipp\">add to wishlist</span></button>\n",
       " <!-- <button class=\"add-to-compare\"><i class=\"fa fa-exchange\"></i><span class=\"tooltipp\">add to compare</span></button> -->\n",
       " <button class=\"quick-view\"><i class=\"fa fa-eye\"></i><span class=\"tooltipp\">quick\n",
       " \t\t\t\t\t\t\t\t\t\t\t\tview</span></button>\n",
       " </div>\n",
       " </div>,\n",
       " <div class=\"product-body\">\n",
       " <p class=\"product-category\">노트북</p>\n",
       " <h3 class=\"product-name\"><a href=\"#product2_detail.html\">삼성전자 노트북 플러스2 15.6, 퓨어 화이트, NT550XDA-K24AT, 펜티엄, 256GB, 8GB, WIN11 Pro</a></h3>\n",
       " <h4 class=\"product-price\">549,000원\n",
       " \t\t\t\t\t\t\t\t\t\t\n",
       " \t\t\t\t\t\t\t\t\t</h4>\n",
       " <div class=\"product-rating sub_cnt\">\n",
       " <i class=\"fa fa-star\"></i>\n",
       " <i class=\"fa fa-star\"></i>\n",
       " <i class=\"fa fa-star\"></i>\n",
       " <i class=\"fa fa-star\"></i>\n",
       " <i class=\"fa fa-star\"></i>\n",
       " \t\t\t\t\t\t\t\t\t\t\t\n",
       " \t\t\t\t\t\t\t\t\t\t\t\t\n",
       " \t\t\t\t\t\t\t\t\t\t\t\t(405)\n",
       " \t\t\t\t\t\t\t\t\t</div>\n",
       " <div class=\"product-btns\">\n",
       " <button class=\"add-to-wishlist\"><i class=\"fa fa-heart-o\"></i><span class=\"tooltipp\">add to wishlist</span></button>\n",
       " <!-- <button class=\"add-to-compare\"><i class=\"fa fa-exchange\"></i><span class=\"tooltipp\">add to compare</span></button> -->\n",
       " <button class=\"quick-view\"><i class=\"fa fa-eye\"></i><span class=\"tooltipp\">quick\n",
       " \t\t\t\t\t\t\t\t\t\t\t\tview</span></button>\n",
       " </div>\n",
       " </div>,\n",
       " <div class=\"product-body\">\n",
       " <p class=\"product-category\">노트북</p>\n",
       " <h3 class=\"product-name\"><a href=\"#product3_detail.html\">레노버 아이디어패드 슬림 1 15AMN7 15.6, 256GB, Free DOS, 82VG002EKR, 라이젠3, Cloud Grey (82VG), 8GB</a></h3>\n",
       " <h4 class=\"product-price\">529,000원\n",
       " \t\t\t\t\t\t\t\t\t\t\n",
       " \t\t\t\t\t\t\t\t\t</h4>\n",
       " <div class=\"product-rating sub_cnt\">\n",
       " <i class=\"fa fa-star\"></i>\n",
       " <i class=\"fa fa-star\"></i>\n",
       " <i class=\"fa fa-star\"></i>\n",
       " <i class=\"fa fa-star\"></i>\n",
       " <i class=\"fa fa-star\"></i>\n",
       " \t\t\t\t\t\t\t\t\t\t\t\n",
       " \t\t\t\t\t\t\t\t\t\t\t\t\n",
       " \t\t\t\t\t\t\t\t\t\t\t\t(903)\n",
       " \t\t\t\t\t\t\t\t\t</div>\n",
       " <div class=\"product-btns\">\n",
       " <button class=\"add-to-wishlist\"><i class=\"fa fa-heart-o\"></i><span class=\"tooltipp\">add to wishlist</span></button>\n",
       " <!-- <button class=\"add-to-compare\"><i class=\"fa fa-exchange\"></i><span class=\"tooltipp\">add to compare</span></button> -->\n",
       " <button class=\"quick-view\"><i class=\"fa fa-eye\"></i><span class=\"tooltipp\">quick\n",
       " \t\t\t\t\t\t\t\t\t\t\t\tview</span></button>\n",
       " </div>\n",
       " </div>,\n",
       " <div class=\"product-body\">\n",
       " <p class=\"product-category\">노트북</p>\n",
       " <h3 class=\"product-name\"><a href=\"#product4_detail.html\">레노버 V15 G4 AMN 15.6, Arctic Grey, 라이젠3, 256GB, 8GB, WIN11 Home, 82YU0009KR</a></h3>\n",
       " <h4 class=\"product-price\">624,000원\n",
       " \t\t\t\t\t\t\t\t\t\t\n",
       " \t\t\t\t\t\t\t\t\t\t<del class=\"product-old-price\">649,000</del>\n",
       " </h4>\n",
       " <div class=\"product-rating sub_cnt\">\n",
       " <i class=\"fa fa-star\"></i>\n",
       " <i class=\"fa fa-star\"></i>\n",
       " <i class=\"fa fa-star\"></i>\n",
       " <i class=\"fa fa-star\"></i>\n",
       " <i class=\"fa fa-star\"></i>\n",
       " \t\t\t\t\t\t\t\t\t\t\t\n",
       " \t\t\t\t\t\t\t\t\t\t\t\t\n",
       " \t\t\t\t\t\t\t\t\t\t\t\t(1)\n",
       " \t\t\t\t\t\t\t\t\t</div>\n",
       " <div class=\"product-btns\">\n",
       " <button class=\"add-to-wishlist\"><i class=\"fa fa-heart-o\"></i><span class=\"tooltipp\">add to wishlist</span></button>\n",
       " <!-- <button class=\"add-to-compare\"><i class=\"fa fa-exchange\"></i><span class=\"tooltipp\">add to compare</span></button> -->\n",
       " <button class=\"quick-view\"><i class=\"fa fa-eye\"></i><span class=\"tooltipp\">quick\n",
       " \t\t\t\t\t\t\t\t\t\t\t\tview</span></button>\n",
       " </div>\n",
       " </div>,\n",
       " <div class=\"product-body\">\n",
       " <p class=\"product-category\">노트북</p>\n",
       " <h3 class=\"product-name\"><a href=\"#product5_detail.html\">LG 울트라PC 엣지 16, 차콜 그레이, 라이젠5, 256GB, 16GB, WIN11 Home, 16U70R-GA56K</a></h3>\n",
       " <h4 class=\"product-price\">1,135,000원\n",
       " \t\t\t\t\t\t\t\t\t\t\n",
       " \t\t\t\t\t\t\t\t\t</h4>\n",
       " <div class=\"product-rating sub_cnt\">\n",
       " <i class=\"fa fa-star\"></i>\n",
       " <i class=\"fa fa-star\"></i>\n",
       " <i class=\"fa fa-star\"></i>\n",
       " <i class=\"fa fa-star\"></i>\n",
       " <i class=\"fa fa-star-half-o\"></i>\n",
       " \t\t\t\t\t\t\t\t\t\t\t\t\n",
       " \t\t\t\t\t\t\t\t\t\t\t\t\n",
       " \t\t\t\t\t\t\t\t\t\t\t\t(155)\n",
       " \t\t\t\t\t\t\t\t\t</div>\n",
       " <div class=\"product-btns\">\n",
       " <button class=\"add-to-wishlist\"><i class=\"fa fa-heart-o\"></i><span class=\"tooltipp\">add to wishlist</span></button>\n",
       " <!-- <button class=\"add-to-compare\"><i class=\"fa fa-exchange\"></i><span class=\"tooltipp\">add to compare</span></button> -->\n",
       " <button class=\"quick-view\"><i class=\"fa fa-eye\"></i><span class=\"tooltipp\">quick\n",
       " \t\t\t\t\t\t\t\t\t\t\t\tview</span></button>\n",
       " </div>\n",
       " </div>,\n",
       " <div class=\"product-body\">\n",
       " <p class=\"product-category\">노트북</p>\n",
       " <h3 class=\"product-name\"><a href=\"#product6_detail.html\">베이직스 베이직북 14 3세대, BB1422SS, 256GB, White, WIN11 Pro, 셀러론, 8GB</a></h3>\n",
       " <h4 class=\"product-price\">398,000원\n",
       " \t\t\t\t\t\t\t\t\t\t\n",
       " \t\t\t\t\t\t\t\t\t</h4>\n",
       " <div class=\"product-rating sub_cnt\">\n",
       " <i class=\"fa fa-star\"></i>\n",
       " <i class=\"fa fa-star\"></i>\n",
       " <i class=\"fa fa-star\"></i>\n",
       " <i class=\"fa fa-star\"></i>\n",
       " <i class=\"fa fa-star-half-o\"></i>\n",
       " \t\t\t\t\t\t\t\t\t\t\t\t\n",
       " \t\t\t\t\t\t\t\t\t\t\t\t\n",
       " \t\t\t\t\t\t\t\t\t\t\t\t(1541)\n",
       " \t\t\t\t\t\t\t\t\t</div>\n",
       " <div class=\"product-btns\">\n",
       " <button class=\"add-to-wishlist\"><i class=\"fa fa-heart-o\"></i><span class=\"tooltipp\">add to wishlist</span></button>\n",
       " <!-- <button class=\"add-to-compare\"><i class=\"fa fa-exchange\"></i><span class=\"tooltipp\">add to compare</span></button> -->\n",
       " <button class=\"quick-view\"><i class=\"fa fa-eye\"></i><span class=\"tooltipp\">quick\n",
       " \t\t\t\t\t\t\t\t\t\t\t\tview</span></button>\n",
       " </div>\n",
       " </div>,\n",
       " <div class=\"product-body\">\n",
       " <p class=\"product-category\">노트북</p>\n",
       " <h3 class=\"product-name\"><a href=\"#product7_detail.html\">레노버 아이디어패드 슬림 5i 14IRL 14, Cloud Grey, 코어i5, 512GB, 16GB, Free DOS, 82XD002XKR</a></h3>\n",
       " <h4 class=\"product-price\">899,000원\n",
       " \t\t\t\t\t\t\t\t\t\t\n",
       " \t\t\t\t\t\t\t\t\t\t<del class=\"product-old-price\">1,099,000</del>\n",
       " </h4>\n",
       " <div class=\"product-rating sub_cnt\">\n",
       " <i class=\"fa fa-star\"></i>\n",
       " <i class=\"fa fa-star\"></i>\n",
       " <i class=\"fa fa-star\"></i>\n",
       " <i class=\"fa fa-star\"></i>\n",
       " <i class=\"fa fa-star\"></i>\n",
       " \t\t\t\t\t\t\t\t\t\t\t\n",
       " \t\t\t\t\t\t\t\t\t\t\t\t\n",
       " \t\t\t\t\t\t\t\t\t\t\t\t(106)\n",
       " \t\t\t\t\t\t\t\t\t</div>\n",
       " <div class=\"product-btns\">\n",
       " <button class=\"add-to-wishlist\"><i class=\"fa fa-heart-o\"></i><span class=\"tooltipp\">add to wishlist</span></button>\n",
       " <!-- <button class=\"add-to-compare\"><i class=\"fa fa-exchange\"></i><span class=\"tooltipp\">add to compare</span></button> -->\n",
       " <button class=\"quick-view\"><i class=\"fa fa-eye\"></i><span class=\"tooltipp\">quick\n",
       " \t\t\t\t\t\t\t\t\t\t\t\tview</span></button>\n",
       " </div>\n",
       " </div>,\n",
       " <div class=\"product-body\">\n",
       " <p class=\"product-category\">노트북</p>\n",
       " <h3 class=\"product-name\"><a href=\"#product8_detail.html\">레노버 아이디어패드 슬림 5 16IRL 16, Cloud Grey, 512GB, 16GB, Free DOS, 82XF001RKR</a></h3>\n",
       " <h4 class=\"product-price\">929,000원\n",
       " \t\t\t\t\t\t\t\t\t\t\n",
       " \t\t\t\t\t\t\t\t\t</h4>\n",
       " <div class=\"product-rating sub_cnt\">\n",
       " <i class=\"fa fa-star\"></i>\n",
       " <i class=\"fa fa-star\"></i>\n",
       " <i class=\"fa fa-star\"></i>\n",
       " <i class=\"fa fa-star\"></i>\n",
       " <i class=\"fa fa-star\"></i>\n",
       " \t\t\t\t\t\t\t\t\t\t\t\n",
       " \t\t\t\t\t\t\t\t\t\t\t\t\n",
       " \t\t\t\t\t\t\t\t\t\t\t\t(118)\n",
       " \t\t\t\t\t\t\t\t\t</div>\n",
       " <div class=\"product-btns\">\n",
       " <button class=\"add-to-wishlist\"><i class=\"fa fa-heart-o\"></i><span class=\"tooltipp\">add to wishlist</span></button>\n",
       " <!-- <button class=\"add-to-compare\"><i class=\"fa fa-exchange\"></i><span class=\"tooltipp\">add to compare</span></button> -->\n",
       " <button class=\"quick-view\"><i class=\"fa fa-eye\"></i><span class=\"tooltipp\">quick\n",
       " \t\t\t\t\t\t\t\t\t\t\t\tview</span></button>\n",
       " </div>\n",
       " </div>,\n",
       " <div class=\"product-body\">\n",
       " <p class=\"product-category\">노트북</p>\n",
       " <h3 class=\"product-name\"><a href=\"#product9_detail.html\">에이서 스위프트 GO 16 OLED, 스틸 그레이, 코어i5, 512GB, 16GB, Free DOS, SFG16-71-51BY</a></h3>\n",
       " <h4 class=\"product-price\">1,008,000원\n",
       " \t\t\t\t\t\t\t\t\t\t\n",
       " \t\t\t\t\t\t\t\t\t</h4>\n",
       " <div class=\"product-rating sub_cnt\">\n",
       " <i class=\"fa fa-star\"></i>\n",
       " <i class=\"fa fa-star\"></i>\n",
       " <i class=\"fa fa-star\"></i>\n",
       " <i class=\"fa fa-star\"></i>\n",
       " <i class=\"fa fa-star-half-o\"></i>\n",
       " \t\t\t\t\t\t\t\t\t\t\t\t\n",
       " \t\t\t\t\t\t\t\t\t\t\t\t\n",
       " \t\t\t\t\t\t\t\t\t\t\t\t(16)\n",
       " \t\t\t\t\t\t\t\t\t</div>\n",
       " <div class=\"product-btns\">\n",
       " <button class=\"add-to-wishlist\"><i class=\"fa fa-heart-o\"></i><span class=\"tooltipp\">add to wishlist</span></button>\n",
       " <!-- <button class=\"add-to-compare\"><i class=\"fa fa-exchange\"></i><span class=\"tooltipp\">add to compare</span></button> -->\n",
       " <button class=\"quick-view\"><i class=\"fa fa-eye\"></i><span class=\"tooltipp\">quick\n",
       " \t\t\t\t\t\t\t\t\t\t\t\tview</span></button>\n",
       " </div>\n",
       " </div>,\n",
       " <div class=\"product-body\">\n",
       " <p class=\"product-category\">노트북</p>\n",
       " <h3 class=\"product-name\"><a href=\"#product10_detail.html\">삼성전자 갤럭시북 2 15.6, 500GB, 실버, NT550XED-K78AS, 코어i7, 16GB, WIN11 Home</a></h3>\n",
       " <h4 class=\"product-price\">1,149,000원\n",
       " \t\t\t\t\t\t\t\t\t\t\n",
       " \t\t\t\t\t\t\t\t\t</h4>\n",
       " <div class=\"product-rating sub_cnt\">\n",
       " <i class=\"fa fa-star\"></i>\n",
       " <i class=\"fa fa-star\"></i>\n",
       " <i class=\"fa fa-star\"></i>\n",
       " <i class=\"fa fa-star\"></i>\n",
       " <i class=\"fa fa-star\"></i>\n",
       " \t\t\t\t\t\t\t\t\t\t\t\n",
       " \t\t\t\t\t\t\t\t\t\t\t\t\n",
       " \t\t\t\t\t\t\t\t\t\t\t\t(687)\n",
       " \t\t\t\t\t\t\t\t\t</div>\n",
       " <div class=\"product-btns\">\n",
       " <button class=\"add-to-wishlist\"><i class=\"fa fa-heart-o\"></i><span class=\"tooltipp\">add to wishlist</span></button>\n",
       " <!-- <button class=\"add-to-compare\"><i class=\"fa fa-exchange\"></i><span class=\"tooltipp\">add to compare</span></button> -->\n",
       " <button class=\"quick-view\"><i class=\"fa fa-eye\"></i><span class=\"tooltipp\">quick\n",
       " \t\t\t\t\t\t\t\t\t\t\t\tview</span></button>\n",
       " </div>\n",
       " </div>]"
      ]
     },
     "execution_count": 14,
     "metadata": {},
     "output_type": "execute_result"
    }
   ],
   "source": [
    "tree = soup.select(\".product-body\") # select to get many (10), select_one to get single\n",
    "tree"
   ]
  },
  {
   "cell_type": "code",
   "execution_count": 30,
   "metadata": {},
   "outputs": [
    {
     "name": "stdout",
     "output_type": "stream",
     "text": [
      "Product Name: 에이서 스위프트 GO 16 OLED, 스틸 그레이, 코어i7, 512GB, 16GB, WIN11 Home, SFG16-71-77FT, Price: 1,419,000 KRW, Category: 노트북, Link: #product1_detail.html\n",
      "Product Name: 삼성전자 노트북 플러스2 15.6, 퓨어 화이트, NT550XDA-K24AT, 펜티엄, 256GB, 8GB, WIN11 Pro, Price: 549,000 KRW, Category: 노트북, Link: #product2_detail.html\n",
      "Product Name: 레노버 아이디어패드 슬림 1 15AMN7 15.6, 256GB, Free DOS, 82VG002EKR, 라이젠3, Cloud Grey (82VG), 8GB, Price: 529,000 KRW, Category: 노트북, Link: #product3_detail.html\n",
      "Product Name: 레노버 V15 G4 AMN 15.6, Arctic Grey, 라이젠3, 256GB, 8GB, WIN11 Home, 82YU0009KR, Price: 624,000 KRW, Category: 노트북, Link: #product4_detail.html\n",
      "Product Name: LG 울트라PC 엣지 16, 차콜 그레이, 라이젠5, 256GB, 16GB, WIN11 Home, 16U70R-GA56K, Price: 1,135,000 KRW, Category: 노트북, Link: #product5_detail.html\n",
      "Product Name: 베이직스 베이직북 14 3세대, BB1422SS, 256GB, White, WIN11 Pro, 셀러론, 8GB, Price: 398,000 KRW, Category: 노트북, Link: #product6_detail.html\n",
      "Product Name: 레노버 아이디어패드 슬림 5i 14IRL 14, Cloud Grey, 코어i5, 512GB, 16GB, Free DOS, 82XD002XKR, Price: 899,000 KRW, Category: 노트북, Link: #product7_detail.html\n",
      "Product Name: 레노버 아이디어패드 슬림 5 16IRL 16, Cloud Grey, 512GB, 16GB, Free DOS, 82XF001RKR, Price: 929,000 KRW, Category: 노트북, Link: #product8_detail.html\n",
      "Product Name: 에이서 스위프트 GO 16 OLED, 스틸 그레이, 코어i5, 512GB, 16GB, Free DOS, SFG16-71-51BY, Price: 1,008,000 KRW, Category: 노트북, Link: #product9_detail.html\n",
      "Product Name: 삼성전자 갤럭시북 2 15.6, 500GB, 실버, NT550XED-K78AS, 코어i7, 16GB, WIN11 Home, Price: 1,149,000 KRW, Category: 노트북, Link: #product10_detail.html\n"
     ]
    }
   ],
   "source": [
    "for item in tree:\n",
    "    name = item.select_one(\".product-name\").text\n",
    "    price = item.select_one(\".product-price\").text.strip().split(\"\\n\")[0].replace(\"원\", \" KRW\")\n",
    "    category = item.select_one(\".product-category\").text\n",
    "    link = item.select_one(\".product-name > a\").attrs[\"href\"]\n",
    "    print(f\"Product Name: {name}, Price: {price}, Category: {category}, Link: {link}\")"
   ]
  }
 ],
 "metadata": {
  "kernelspec": {
   "display_name": "crawling",
   "language": "python",
   "name": "python3"
  },
  "language_info": {
   "codemirror_mode": {
    "name": "ipython",
    "version": 3
   },
   "file_extension": ".py",
   "mimetype": "text/x-python",
   "name": "python",
   "nbconvert_exporter": "python",
   "pygments_lexer": "ipython3",
   "version": "3.8.19"
  }
 },
 "nbformat": 4,
 "nbformat_minor": 2
}
