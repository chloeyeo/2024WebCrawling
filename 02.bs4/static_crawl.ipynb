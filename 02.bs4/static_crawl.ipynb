{
 "cells": [
  {
   "cell_type": "code",
   "execution_count": 1,
   "metadata": {},
   "outputs": [
    {
     "name": "stdout",
     "output_type": "stream",
     "text": [
      "Requirement already satisfied: requests in c:\\users\\ezen\\anaconda3\\envs\\crawling\\lib\\site-packages (2.31.0)\n",
      "Requirement already satisfied: charset-normalizer<4,>=2 in c:\\users\\ezen\\anaconda3\\envs\\crawling\\lib\\site-packages (from requests) (3.3.2)\n",
      "Requirement already satisfied: idna<4,>=2.5 in c:\\users\\ezen\\anaconda3\\envs\\crawling\\lib\\site-packages (from requests) (3.7)\n",
      "Requirement already satisfied: urllib3<3,>=1.21.1 in c:\\users\\ezen\\anaconda3\\envs\\crawling\\lib\\site-packages (from requests) (2.2.1)\n",
      "Requirement already satisfied: certifi>=2017.4.17 in c:\\users\\ezen\\anaconda3\\envs\\crawling\\lib\\site-packages (from requests) (2024.2.2)\n"
     ]
    }
   ],
   "source": [
    "!pip install requests"
   ]
  },
  {
   "cell_type": "code",
   "execution_count": 2,
   "metadata": {},
   "outputs": [
    {
     "name": "stdout",
     "output_type": "stream",
     "text": [
      "Requirement already satisfied: bs4 in c:\\users\\ezen\\anaconda3\\envs\\crawling\\lib\\site-packages (0.0.2)\n",
      "Requirement already satisfied: beautifulsoup4 in c:\\users\\ezen\\anaconda3\\envs\\crawling\\lib\\site-packages (from bs4) (4.12.3)\n",
      "Requirement already satisfied: soupsieve>1.2 in c:\\users\\ezen\\anaconda3\\envs\\crawling\\lib\\site-packages (from beautifulsoup4->bs4) (2.5)\n"
     ]
    }
   ],
   "source": [
    "!pip install bs4"
   ]
  },
  {
   "cell_type": "code",
   "execution_count": 3,
   "metadata": {},
   "outputs": [
    {
     "data": {
      "text/plain": [
       "'스타트코딩'"
      ]
     },
     "execution_count": 3,
     "metadata": {},
     "output_type": "execute_result"
    }
   ],
   "source": [
    "import requests\n",
    "from bs4 import BeautifulSoup\n",
    "url = \"https://startcoding.pythonanywhere.com/basic\"\n",
    "response = requests.get(url)\n",
    "#response.status_code\n",
    "html=response.text\n",
    "soup = BeautifulSoup(html, \"html.parser\")\n",
    "soup\n",
    "brand_name = soup.select_one(\".brand-name\").text\n",
    "brand_name"
   ]
  },
  {
   "cell_type": "code",
   "execution_count": 4,
   "metadata": {},
   "outputs": [
    {
     "data": {
      "text/plain": [
       "'kkj6369@naver.com'"
      ]
     },
     "execution_count": 4,
     "metadata": {},
     "output_type": "execute_result"
    }
   ],
   "source": [
    "email = soup.select_one(\".email\").text.strip()\n",
    "email"
   ]
  },
  {
   "cell_type": "code",
   "execution_count": 5,
   "metadata": {},
   "outputs": [
    {
     "data": {
      "text/plain": [
       "'에이서 스위프트 GO 16 OLED, 스틸 그레이, 코어i7, 512GB, 16GB, WIN11 Home, SFG16-71-77FT'"
      ]
     },
     "execution_count": 5,
     "metadata": {},
     "output_type": "execute_result"
    }
   ],
   "source": [
    "name = soup.select_one(\".product-name\").text\n",
    "name"
   ]
  },
  {
   "cell_type": "code",
   "execution_count": 6,
   "metadata": {},
   "outputs": [
    {
     "data": {
      "text/plain": [
       "'1419000'"
      ]
     },
     "execution_count": 6,
     "metadata": {},
     "output_type": "execute_result"
    }
   ],
   "source": [
    "price = soup.select_one(\".product-price\").text.strip().replace(\",\",\"\").split(\"원\")[0]\n",
    "price"
   ]
  },
  {
   "cell_type": "code",
   "execution_count": 7,
   "metadata": {},
   "outputs": [
    {
     "data": {
      "text/plain": [
       "'#product1_detail.html'"
      ]
     },
     "execution_count": 7,
     "metadata": {},
     "output_type": "execute_result"
    }
   ],
   "source": [
    "link = soup.select_one(\".product-name > a\").attrs[\"href\"]\n",
    "link"
   ]
  },
  {
   "cell_type": "code",
   "execution_count": 17,
   "metadata": {},
   "outputs": [],
   "source": [
    "tree = soup.select(\".product-body\") # select to get many (10), select_one to get single\n",
    "tree\n",
    "data = []"
   ]
  },
  {
   "cell_type": "code",
   "execution_count": 18,
   "metadata": {},
   "outputs": [
    {
     "name": "stdout",
     "output_type": "stream",
     "text": [
      "Product Name: 에이서 스위프트 GO 16 OLED, 스틸 그레이, 코어i7, 512GB, 16GB, WIN11 Home, SFG16-71-77FT, Price: 1,419,000 KRW, Category: 노트북, Link: #product1_detail.html\n",
      "Product Name: 삼성전자 노트북 플러스2 15.6, 퓨어 화이트, NT550XDA-K24AT, 펜티엄, 256GB, 8GB, WIN11 Pro, Price: 549,000 KRW, Category: 노트북, Link: #product2_detail.html\n",
      "Product Name: 레노버 아이디어패드 슬림 1 15AMN7 15.6, 256GB, Free DOS, 82VG002EKR, 라이젠3, Cloud Grey (82VG), 8GB, Price: 529,000 KRW, Category: 노트북, Link: #product3_detail.html\n",
      "Product Name: 레노버 V15 G4 AMN 15.6, Arctic Grey, 라이젠3, 256GB, 8GB, WIN11 Home, 82YU0009KR, Price: 624,000 KRW, Category: 노트북, Link: #product4_detail.html\n",
      "Product Name: LG 울트라PC 엣지 16, 차콜 그레이, 라이젠5, 256GB, 16GB, WIN11 Home, 16U70R-GA56K, Price: 1,135,000 KRW, Category: 노트북, Link: #product5_detail.html\n",
      "Product Name: 베이직스 베이직북 14 3세대, BB1422SS, 256GB, White, WIN11 Pro, 셀러론, 8GB, Price: 398,000 KRW, Category: 노트북, Link: #product6_detail.html\n",
      "Product Name: 레노버 아이디어패드 슬림 5i 14IRL 14, Cloud Grey, 코어i5, 512GB, 16GB, Free DOS, 82XD002XKR, Price: 899,000 KRW, Category: 노트북, Link: #product7_detail.html\n",
      "Product Name: 레노버 아이디어패드 슬림 5 16IRL 16, Cloud Grey, 512GB, 16GB, Free DOS, 82XF001RKR, Price: 929,000 KRW, Category: 노트북, Link: #product8_detail.html\n",
      "Product Name: 에이서 스위프트 GO 16 OLED, 스틸 그레이, 코어i5, 512GB, 16GB, Free DOS, SFG16-71-51BY, Price: 1,008,000 KRW, Category: 노트북, Link: #product9_detail.html\n",
      "Product Name: 삼성전자 갤럭시북 2 15.6, 500GB, 실버, NT550XED-K78AS, 코어i7, 16GB, WIN11 Home, Price: 1,149,000 KRW, Category: 노트북, Link: #product10_detail.html\n"
     ]
    }
   ],
   "source": [
    "for item in tree:\n",
    "    name = item.select_one(\".product-name\").text\n",
    "    price = item.select_one(\".product-price\").text.strip().split(\"\\n\")[0].replace(\"원\", \" KRW\")\n",
    "    category = item.select_one(\".product-category\").text\n",
    "    link = item.select_one(\".product-name > a\").attrs[\"href\"]\n",
    "    data.append([category, name, price, link])\n",
    "    print(f\"Product Name: {name}, Price: {price}, Category: {category}, Link: {link}\")"
   ]
  },
  {
   "cell_type": "code",
   "execution_count": 12,
   "metadata": {},
   "outputs": [
    {
     "name": "stdout",
     "output_type": "stream",
     "text": [
      "Requirement already satisfied: pandas in c:\\users\\ezen\\anaconda3\\envs\\crawling\\lib\\site-packages (2.0.3)\n",
      "Requirement already satisfied: python-dateutil>=2.8.2 in c:\\users\\ezen\\anaconda3\\envs\\crawling\\lib\\site-packages (from pandas) (2.9.0)\n",
      "Requirement already satisfied: pytz>=2020.1 in c:\\users\\ezen\\anaconda3\\envs\\crawling\\lib\\site-packages (from pandas) (2024.1)\n",
      "Requirement already satisfied: tzdata>=2022.1 in c:\\users\\ezen\\anaconda3\\envs\\crawling\\lib\\site-packages (from pandas) (2024.1)\n",
      "Requirement already satisfied: numpy>=1.20.3 in c:\\users\\ezen\\anaconda3\\envs\\crawling\\lib\\site-packages (from pandas) (1.24.4)\n",
      "Requirement already satisfied: six>=1.5 in c:\\users\\ezen\\anaconda3\\envs\\crawling\\lib\\site-packages (from python-dateutil>=2.8.2->pandas) (1.16.0)\n"
     ]
    }
   ],
   "source": [
    "!pip install pandas"
   ]
  },
  {
   "cell_type": "code",
   "execution_count": 15,
   "metadata": {},
   "outputs": [
    {
     "name": "stdout",
     "output_type": "stream",
     "text": [
      "2.0.3\n"
     ]
    }
   ],
   "source": [
    "import pandas as pd\n",
    "print(pd.__version__)"
   ]
  },
  {
   "cell_type": "code",
   "execution_count": 20,
   "metadata": {},
   "outputs": [
    {
     "data": {
      "text/html": [
       "<div>\n",
       "<style scoped>\n",
       "    .dataframe tbody tr th:only-of-type {\n",
       "        vertical-align: middle;\n",
       "    }\n",
       "\n",
       "    .dataframe tbody tr th {\n",
       "        vertical-align: top;\n",
       "    }\n",
       "\n",
       "    .dataframe thead th {\n",
       "        text-align: right;\n",
       "    }\n",
       "</style>\n",
       "<table border=\"1\" class=\"dataframe\">\n",
       "  <thead>\n",
       "    <tr style=\"text-align: right;\">\n",
       "      <th></th>\n",
       "      <th>category</th>\n",
       "      <th>name</th>\n",
       "      <th>price</th>\n",
       "      <th>link</th>\n",
       "    </tr>\n",
       "  </thead>\n",
       "  <tbody>\n",
       "    <tr>\n",
       "      <th>0</th>\n",
       "      <td>노트북</td>\n",
       "      <td>에이서 스위프트 GO 16 OLED, 스틸 그레이, 코어i7, 512GB, 16GB...</td>\n",
       "      <td>1,419,000 KRW</td>\n",
       "      <td>#product1_detail.html</td>\n",
       "    </tr>\n",
       "    <tr>\n",
       "      <th>1</th>\n",
       "      <td>노트북</td>\n",
       "      <td>삼성전자 노트북 플러스2 15.6, 퓨어 화이트, NT550XDA-K24AT, 펜티...</td>\n",
       "      <td>549,000 KRW</td>\n",
       "      <td>#product2_detail.html</td>\n",
       "    </tr>\n",
       "    <tr>\n",
       "      <th>2</th>\n",
       "      <td>노트북</td>\n",
       "      <td>레노버 아이디어패드 슬림 1 15AMN7 15.6, 256GB, Free DOS, ...</td>\n",
       "      <td>529,000 KRW</td>\n",
       "      <td>#product3_detail.html</td>\n",
       "    </tr>\n",
       "    <tr>\n",
       "      <th>3</th>\n",
       "      <td>노트북</td>\n",
       "      <td>레노버 V15 G4 AMN 15.6, Arctic Grey, 라이젠3, 256GB,...</td>\n",
       "      <td>624,000 KRW</td>\n",
       "      <td>#product4_detail.html</td>\n",
       "    </tr>\n",
       "    <tr>\n",
       "      <th>4</th>\n",
       "      <td>노트북</td>\n",
       "      <td>LG 울트라PC 엣지 16, 차콜 그레이, 라이젠5, 256GB, 16GB, WIN...</td>\n",
       "      <td>1,135,000 KRW</td>\n",
       "      <td>#product5_detail.html</td>\n",
       "    </tr>\n",
       "    <tr>\n",
       "      <th>5</th>\n",
       "      <td>노트북</td>\n",
       "      <td>베이직스 베이직북 14 3세대, BB1422SS, 256GB, White, WIN1...</td>\n",
       "      <td>398,000 KRW</td>\n",
       "      <td>#product6_detail.html</td>\n",
       "    </tr>\n",
       "    <tr>\n",
       "      <th>6</th>\n",
       "      <td>노트북</td>\n",
       "      <td>레노버 아이디어패드 슬림 5i 14IRL 14, Cloud Grey, 코어i5, 5...</td>\n",
       "      <td>899,000 KRW</td>\n",
       "      <td>#product7_detail.html</td>\n",
       "    </tr>\n",
       "    <tr>\n",
       "      <th>7</th>\n",
       "      <td>노트북</td>\n",
       "      <td>레노버 아이디어패드 슬림 5 16IRL 16, Cloud Grey, 512GB, 1...</td>\n",
       "      <td>929,000 KRW</td>\n",
       "      <td>#product8_detail.html</td>\n",
       "    </tr>\n",
       "    <tr>\n",
       "      <th>8</th>\n",
       "      <td>노트북</td>\n",
       "      <td>에이서 스위프트 GO 16 OLED, 스틸 그레이, 코어i5, 512GB, 16GB...</td>\n",
       "      <td>1,008,000 KRW</td>\n",
       "      <td>#product9_detail.html</td>\n",
       "    </tr>\n",
       "    <tr>\n",
       "      <th>9</th>\n",
       "      <td>노트북</td>\n",
       "      <td>삼성전자 갤럭시북 2 15.6, 500GB, 실버, NT550XED-K78AS, 코...</td>\n",
       "      <td>1,149,000 KRW</td>\n",
       "      <td>#product10_detail.html</td>\n",
       "    </tr>\n",
       "  </tbody>\n",
       "</table>\n",
       "</div>"
      ],
      "text/plain": [
       "  category                                               name          price  \\\n",
       "0      노트북  에이서 스위프트 GO 16 OLED, 스틸 그레이, 코어i7, 512GB, 16GB...  1,419,000 KRW   \n",
       "1      노트북  삼성전자 노트북 플러스2 15.6, 퓨어 화이트, NT550XDA-K24AT, 펜티...    549,000 KRW   \n",
       "2      노트북  레노버 아이디어패드 슬림 1 15AMN7 15.6, 256GB, Free DOS, ...    529,000 KRW   \n",
       "3      노트북  레노버 V15 G4 AMN 15.6, Arctic Grey, 라이젠3, 256GB,...    624,000 KRW   \n",
       "4      노트북  LG 울트라PC 엣지 16, 차콜 그레이, 라이젠5, 256GB, 16GB, WIN...  1,135,000 KRW   \n",
       "5      노트북  베이직스 베이직북 14 3세대, BB1422SS, 256GB, White, WIN1...    398,000 KRW   \n",
       "6      노트북  레노버 아이디어패드 슬림 5i 14IRL 14, Cloud Grey, 코어i5, 5...    899,000 KRW   \n",
       "7      노트북  레노버 아이디어패드 슬림 5 16IRL 16, Cloud Grey, 512GB, 1...    929,000 KRW   \n",
       "8      노트북  에이서 스위프트 GO 16 OLED, 스틸 그레이, 코어i5, 512GB, 16GB...  1,008,000 KRW   \n",
       "9      노트북  삼성전자 갤럭시북 2 15.6, 500GB, 실버, NT550XED-K78AS, 코...  1,149,000 KRW   \n",
       "\n",
       "                     link  \n",
       "0   #product1_detail.html  \n",
       "1   #product2_detail.html  \n",
       "2   #product3_detail.html  \n",
       "3   #product4_detail.html  \n",
       "4   #product5_detail.html  \n",
       "5   #product6_detail.html  \n",
       "6   #product7_detail.html  \n",
       "7   #product8_detail.html  \n",
       "8   #product9_detail.html  \n",
       "9  #product10_detail.html  "
      ]
     },
     "execution_count": 20,
     "metadata": {},
     "output_type": "execute_result"
    }
   ],
   "source": [
    "df1 = pd.DataFrame(data, columns=['category', 'name', 'price', 'link'])\n",
    "df1"
   ]
  },
  {
   "cell_type": "code",
   "execution_count": null,
   "metadata": {},
   "outputs": [],
   "source": [
    "df1.to_csv(\"result.csv\", index=False) # index=False otherwise first column will be named index"
   ]
  }
 ],
 "metadata": {
  "kernelspec": {
   "display_name": "crawling",
   "language": "python",
   "name": "python3"
  },
  "language_info": {
   "codemirror_mode": {
    "name": "ipython",
    "version": 3
   },
   "file_extension": ".py",
   "mimetype": "text/x-python",
   "name": "python",
   "nbconvert_exporter": "python",
   "pygments_lexer": "ipython3",
   "version": "3.8.19"
  }
 },
 "nbformat": 4,
 "nbformat_minor": 2
}
